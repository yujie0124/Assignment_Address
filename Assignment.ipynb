{
  "nbformat": 4,
  "nbformat_minor": 0,
  "metadata": {
    "colab": {
      "provenance": [],
      "collapsed_sections": [],
      "authorship_tag": "ABX9TyPYjnpgLbPWjHBZ/g7jqo64",
      "include_colab_link": true
    },
    "kernelspec": {
      "name": "python3",
      "display_name": "Python 3"
    },
    "language_info": {
      "name": "python"
    }
  },
  "cells": [
    {
      "cell_type": "markdown",
      "metadata": {
        "id": "view-in-github",
        "colab_type": "text"
      },
      "source": [
        "<a href=\"https://colab.research.google.com/github/yujie0124/Assignment_Address/blob/main/Assignment.ipynb\" target=\"_parent\"><img src=\"https://colab.research.google.com/assets/colab-badge.svg\" alt=\"Open In Colab\"/></a>"
      ]
    },
    {
      "cell_type": "code",
      "execution_count": 1,
      "metadata": {
        "colab": {
          "base_uri": "https://localhost:8080/"
        },
        "id": "8zTfYs4K0Yih",
        "outputId": "ea094fa1-f564-4298-b179-778c00251ee3"
      },
      "outputs": [
        {
          "output_type": "stream",
          "name": "stdout",
          "text": [
            "Looking in indexes: https://pypi.org/simple, https://us-python.pkg.dev/colab-wheels/public/simple/\n",
            "Requirement already satisfied: nltk in /usr/local/lib/python3.7/dist-packages (3.7)\n",
            "Requirement already satisfied: regex>=2021.8.3 in /usr/local/lib/python3.7/dist-packages (from nltk) (2022.6.2)\n",
            "Requirement already satisfied: joblib in /usr/local/lib/python3.7/dist-packages (from nltk) (1.2.0)\n",
            "Requirement already satisfied: tqdm in /usr/local/lib/python3.7/dist-packages (from nltk) (4.64.1)\n",
            "Requirement already satisfied: click in /usr/local/lib/python3.7/dist-packages (from nltk) (7.1.2)\n",
            "Looking in indexes: https://pypi.org/simple, https://us-python.pkg.dev/colab-wheels/public/simple/\n",
            "Requirement already satisfied: pyspellchecker in /usr/local/lib/python3.7/dist-packages (0.7.0)\n"
          ]
        },
        {
          "output_type": "stream",
          "name": "stderr",
          "text": [
            "[nltk_data] Downloading package punkt to /root/nltk_data...\n",
            "[nltk_data]   Package punkt is already up-to-date!\n"
          ]
        }
      ],
      "source": [
        "!pip install nltk\n",
        "!pip install pyspellchecker\n",
        "\n",
        "import nltk\n",
        "nltk.download('punkt')\n",
        "from nltk.tokenize import word_tokenize, regexp_tokenize, treebank\n",
        "from nltk.util import ngrams\n",
        "import re\n",
        "from spellchecker import SpellChecker\n",
        "from difflib import SequenceMatcher\n",
        "\n",
        "class Address:\n",
        "    def __init__(self, user_input):\n",
        "      self.value = user_input.title()\n",
        "      self.apt = None\n",
        "      self.city = None\n",
        "      self.state = None\n",
        "      self.postcode = None\n",
        "      self.street = None\n",
        "      self.section = None\n",
        "        \n",
        "    def getApt(self):\n",
        "      match = re.search('No.[0-9]+', self.value)\n",
        "      if match is not None:\n",
        "        self.apt = match.group()\n",
        "        self.value = self.value.replace(self.apt, \"\")\n",
        "    \n",
        "    def getPostcode(self):\n",
        "      match = re.search('[0-9]{5}', self.value)\n",
        "      if match is not None:\n",
        "        self.postcode = match.group()\n",
        "        self.value = self.value.replace(self.postcode, \"\")\n",
        "    \n",
        "    def getCity(self):\n",
        "      cities = 'Kuala Terengganu|Kuala Lumpur|Kajang|Bangi|Damansara|Petaling Jaya|Puchong|Subang Jaya|Cyberjaya|Putrajaya|Mantin|Kuching|Seremban'\n",
        "      match = re.search(cities, self.value)\n",
        "      if match is not None:\n",
        "        self.city = match.group()\n",
        "        self.value = self.value.replace(self.city, \"\")\n",
        "    \n",
        "    def getState(self):\n",
        "      states = 'Selangor|Terengganu|Pahang|Kelantan|Melaka|Pulau Pinang|Kedah|Johor|Perlis|Sabah|Sarawak'\n",
        "      match = re.search(states, self.value)\n",
        "      if match is not None:\n",
        "        self.state = match.group()\n",
        "        self.value = self.value.replace(self.state, \"\") \n",
        "    \n",
        "    def getStreet(self):\n",
        "      matchStreet = re.search('(Jalan|Jln|Lorong|Persiaran)\\s[A-Za-z0-9\\-\\.\\/\\s]*', self.value)\n",
        "      if matchStreet is not None:\n",
        "        self.street = matchStreet.group()\n",
        "        self.value = self.value.replace(self.street, \"\")\n",
        "        \n",
        "      # contain no Jalan, then all considered as SECTION\n",
        "      clean = re.sub(r'[\\,\\.]', '', self.value)\n",
        "      if clean != '' and clean !=' ':\n",
        "        self.section = clean\n",
        "    \n",
        "    def checkPostcode(self):\n",
        "      match = re.search('[0-9]+', self.value)\n",
        "      if match is not None:\n",
        "        clean = re.sub(r'No.[0-9]+', '', self.value)\n",
        "        match2 = re.search('[0-9]+', clean)\n",
        "        if match2 is not None:\n",
        "          inputPostcode = match2.group()\n",
        "          if len(inputPostcode) != 5 or (int(inputPostcode) not in range(1000,98860)):\n",
        "            return False\n",
        "      else:\n",
        "        return True\n",
        "    \n",
        "    def checkCityState(self):\n",
        "      clean = re.sub(r'[^A-Za-z\\s]+', '', self.value)\n",
        "      tokens = word_tokenize(clean)\n",
        "      spell = SpellChecker(language=None)\n",
        "      spell.word_frequency.load_words([\"Kuala\", \"Terengganu\", \"Lumpur\", \"Kajang\", \"Bangi\", \"Damansara\", \"Petaling\", \"Jaya\", \"Puchong\", \"Subang\", \"Cyberjaya\", \n",
        "                                       \"Putrajaya\", \"Mantin\", \"Kuching\", \"Seremban\", \"Selangor\", \"Pahang\", \"Kelantan\", \"Melaka\", \"Pulau\", \"Pinang\", \"Kedah\", \n",
        "                                       \"Johor\", \"Perlis\", \"Sabah\", \"Sarawak\"])\n",
        "      x = []\n",
        "      for word in tokens:\n",
        "        if word not in spell:\n",
        "          cor = spell.correction(word)\n",
        "          if cor is not None:\n",
        "            x.append([word, cor.title()])\n",
        "      return x\n",
        "\n",
        "    def getComponent(self):\n",
        "      self.getApt()\n",
        "      self.getCity()\n",
        "      self.getState()\n",
        "      self.getPostcode()\n",
        "      self.getStreet()\n",
        "      for attribute, value in self.__dict__.items():\n",
        "        if value is not None and attribute!=\"value\":\n",
        "          print(attribute, ':', value, \"\\n\")"
      ]
    },
    {
      "cell_type": "code",
      "source": [
        "while True:\n",
        "    address = input(\"Please enter your address: \")\n",
        "    if address == '':\n",
        "        print(\"Invalid data, please enter valid address. Thanks.\\n\")\n",
        "        continue\n",
        "    else:\n",
        "        ad = Address(address)\n",
        "        if ad.checkPostcode() == False:\n",
        "          print(\"Invalid postcode, please enter valid address. Thanks.\\n\")\n",
        "          continue\n",
        "        x = ad.checkCityState()\n",
        "        if len(x) != 0:\n",
        "          for y in x:\n",
        "            print(\"You may have entered wrong name of the city or state, '{}'. Perhaps the correct word is '{}'\".format(y[0], y[1]))\n",
        "          continue\n",
        "        else:\n",
        "          ad.getComponent()\n",
        "          cont = input(\"Wish to continue? (y/n)\").lower()\n",
        "          if cont == 'y':\n",
        "            print(\"\\n\")\n",
        "            continue\n",
        "          else:\n",
        "            break"
      ],
      "metadata": {
        "colab": {
          "base_uri": "https://localhost:8080/"
        },
        "id": "tWz9X0ck0jhD",
        "outputId": "06bd76c1-02cd-48c7-fd1f-398d2a6781ae"
      },
      "execution_count": 2,
      "outputs": [
        {
          "name": "stdout",
          "output_type": "stream",
          "text": [
            "Please enter your address: No 11, Chendering, 21080 Kuala Terengganu, Terengganu.\n",
            "apt : No 11 \n",
            "\n",
            "city : Kuala Terengganu \n",
            "\n",
            "state : Terengganu \n",
            "\n",
            "postcode : 21080 \n",
            "\n",
            "section :  Chendering    \n",
            "\n",
            "Wish to continue? (y/n)y\n",
            "\n",
            "\n",
            "Please enter your address: No 11, Kuala Terengganu, Chendering\n",
            "apt : No 11 \n",
            "\n",
            "city : Kuala Terengganu \n",
            "\n",
            "section :   Chendering \n",
            "\n",
            "Wish to continue? (y/n)y\n",
            "\n",
            "\n",
            "Please enter your address: No 11 Kuala Terengganu Chendering\n",
            "apt : No 11 \n",
            "\n",
            "city : Kuala Terengganu \n",
            "\n",
            "section :   Chendering \n",
            "\n",
            "Wish to continue? (y/n)y\n",
            "\n",
            "\n",
            "Please enter your address: No 11 Kuala Terenganu Chendering\n",
            "You may have entered wrong name of the city or state, 'Terenganu'. Perhaps the correct word is 'Terengganu'\n",
            "Please enter your address: No 11 Kuala Terengganu Chendering 20596\n",
            "apt : No 11 \n",
            "\n",
            "city : Kuala Terengganu \n",
            "\n",
            "postcode : 20596 \n",
            "\n",
            "section :   Chendering  \n",
            "\n",
            "Wish to continue? (y/n)y\n",
            "\n",
            "\n",
            "Please enter your address: No 11 Kuala Terengganu Chendering 205960\n",
            "Invalid postcode, please enter valid address. Thanks.\n",
            "\n",
            "Please enter your address: No 11 Taman Putih Cyberjaya Selangor\n",
            "apt : No 11 \n",
            "\n",
            "city : Cyberjaya \n",
            "\n",
            "state : Selangor \n",
            "\n",
            "section :  Taman Putih   \n",
            "\n",
            "Wish to continue? (y/n)n\n"
          ]
        }
      ]
    },
    {
      "cell_type": "code",
      "source": [],
      "metadata": {
        "id": "HP8mvBXG1-IQ"
      },
      "execution_count": null,
      "outputs": []
    }
  ]
}