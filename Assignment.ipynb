{
  "nbformat": 4,
  "nbformat_minor": 0,
  "metadata": {
    "colab": {
      "provenance": [],
      "collapsed_sections": [],
      "authorship_tag": "ABX9TyMI6Qu4i6SyQaGu3m2BpQRP",
      "include_colab_link": true
    },
    "kernelspec": {
      "name": "python3",
      "display_name": "Python 3"
    },
    "language_info": {
      "name": "python"
    }
  },
  "cells": [
    {
      "cell_type": "markdown",
      "metadata": {
        "id": "view-in-github",
        "colab_type": "text"
      },
      "source": [
        "<a href=\"https://colab.research.google.com/github/yujie0124/Assignment_Address/blob/main/Assignment.ipynb\" target=\"_parent\"><img src=\"https://colab.research.google.com/assets/colab-badge.svg\" alt=\"Open In Colab\"/></a>"
      ]
    },
    {
      "cell_type": "code",
      "execution_count": 4,
      "metadata": {
        "colab": {
          "base_uri": "https://localhost:8080/"
        },
        "id": "8zTfYs4K0Yih",
        "outputId": "62cca5ad-8aa9-401c-de9c-1953568f6bd6"
      },
      "outputs": [
        {
          "output_type": "stream",
          "name": "stdout",
          "text": [
            "Looking in indexes: https://pypi.org/simple, https://us-python.pkg.dev/colab-wheels/public/simple/\n",
            "Requirement already satisfied: nltk in /usr/local/lib/python3.7/dist-packages (3.7)\n",
            "Requirement already satisfied: click in /usr/local/lib/python3.7/dist-packages (from nltk) (7.1.2)\n",
            "Requirement already satisfied: tqdm in /usr/local/lib/python3.7/dist-packages (from nltk) (4.64.1)\n",
            "Requirement already satisfied: joblib in /usr/local/lib/python3.7/dist-packages (from nltk) (1.2.0)\n",
            "Requirement already satisfied: regex>=2021.8.3 in /usr/local/lib/python3.7/dist-packages (from nltk) (2022.6.2)\n"
          ]
        },
        {
          "output_type": "stream",
          "name": "stderr",
          "text": [
            "[nltk_data] Downloading package punkt to /root/nltk_data...\n",
            "[nltk_data]   Package punkt is already up-to-date!\n"
          ]
        }
      ],
      "source": [
        "!pip install nltk\n",
        "\n",
        "import nltk\n",
        "nltk.download('punkt')\n",
        "from nltk.tokenize import word_tokenize, regexp_tokenize, treebank\n",
        "from nltk.util import ngrams\n",
        "import re\n",
        "\n",
        "class Address:\n",
        "    def __init__(self, user_input):\n",
        "        self.value = user_input.title()\n",
        "        self.apt = None\n",
        "        self.city = None\n",
        "        self.state = None\n",
        "        self.postcode = None\n",
        "        self.street = None\n",
        "        self.section = None\n",
        "        \n",
        "    def getApt(self):\n",
        "        match = re.search('No.[0-9]+', self.value)\n",
        "        if match is not None:\n",
        "            self.apt = match.group()\n",
        "            self.value = self.value.replace(self.apt, \"\")\n",
        "    \n",
        "    def getPostcode(self):\n",
        "        match = re.search('[0-9]{5}', self.value)\n",
        "        if match is not None:\n",
        "            self.postcode = match.group()\n",
        "            self.value = self.value.replace(self.postcode, \"\")\n",
        "    \n",
        "    def getCity(self):\n",
        "        cities = 'Kuala Terengganu|Kuala Lumpur|Kajang|Bangi|Damansara|Petaling Jaya|Puchong|Subang Jaya|Cyberjaya|Putrajaya|Mantin|Kuching|Seremban'\n",
        "        match = re.search(cities, self.value)\n",
        "        if match is not None:\n",
        "            self.city = match.group()\n",
        "            self.value = self.value.replace(self.city, \"\")\n",
        "    \n",
        "    def getState(self):\n",
        "        states = 'Selangor|Terengganu|Pahang|Kelantan|Melaka|Pulau Pinang|Kedah|Johor|Perlis|Sabah|Sarawak'\n",
        "        match = re.search(states, self.value)\n",
        "        if match is not None:\n",
        "            self.state = match.group()\n",
        "            self.value = self.value.replace(self.state, \"\")\n",
        "            \n",
        "    def getStreetSection(self):\n",
        "        streets = [\"Jalan\",\"Jln\",\"Lorong\",\"Persiaran\"]\n",
        "        matchStreet = re.search('(Jalan|Jln|Lorong|Persiaran)', self.value)\n",
        "        if matchStreet is not None:\n",
        "            tokens = nltk.tokenize.word_tokenize(self.value)\n",
        "            streetIndex, endIndex = 0, 0\n",
        "            for i, word in enumerate(tokens):\n",
        "                if word in streets:\n",
        "                    streetIndex = i\n",
        "                if word == \"Taman\":\n",
        "                    endIndex = i\n",
        "            self.street = treebank.TreebankWordDetokenizer().detokenize(tokens[streetIndex:endIndex])\n",
        "            self.value = self.value.replace(self.street, \"\")\n",
        "            \n",
        "        # contain no Jalan, then all considered as SECTION\n",
        "        clean = re.sub(r'[^\\w\\s]', '', self.value)\n",
        "        if clean != '' and clean !=' ':\n",
        "            self.section = clean        \n",
        "    \n",
        "    def getStreet(self):\n",
        "        matchStreet = re.search('(Jalan|Jln|Lorong|Persiaran)\\s[A-Za-z\\s]*', self.value)\n",
        "        if matchStreet is not None:\n",
        "            self.street = matchStreet.group()\n",
        "            self.value = self.value.replace(self.street, \"\")\n",
        "        \n",
        "        # contain no Jalan, then all considered as SECTION\n",
        "        clean = re.sub(r'[^\\w\\s]', '', self.value)\n",
        "        if clean != '' and clean !=' ':\n",
        "            self.section = clean\n",
        "    \n",
        "    def getComponent(self):\n",
        "        self.getApt()\n",
        "        self.getCity()\n",
        "        self.getState()\n",
        "        self.getPostcode()\n",
        "        self.getStreet()\n",
        "\n",
        "        for attribute, value in self.__dict__.items():\n",
        "            if value is not None and attribute!=\"value\":\n",
        "                print(attribute, ':', value, \"\\n\")"
      ]
    },
    {
      "cell_type": "code",
      "source": [
        "while True:\n",
        "    address = input(\"Please enter your address: \")\n",
        "    if address == '':\n",
        "        print(\"Invalid data, please enter valid address. Thanks.\\n\")\n",
        "        continue\n",
        "    \n",
        "    else:\n",
        "        ad = Address(address)\n",
        "        ad.getComponent()\n",
        "        cont = input(\"Wish to continue? (y/n)\").lower()\n",
        "        if cont == 'y':\n",
        "            print(\"\\n\")\n",
        "            continue\n",
        "        else:\n",
        "            break"
      ],
      "metadata": {
        "colab": {
          "base_uri": "https://localhost:8080/"
        },
        "id": "tWz9X0ck0jhD",
        "outputId": "a9a5d5a9-74e0-4645-875a-a49dd8fe2a00"
      },
      "execution_count": 3,
      "outputs": [
        {
          "name": "stdout",
          "output_type": "stream",
          "text": [
            "Please enter your address: No 11 Chendering 21080 Kuala Terengganu Terengganu\n",
            "apt : No 11 \n",
            "\n",
            "city : Kuala Terengganu \n",
            "\n",
            "state : Terengganu \n",
            "\n",
            "postcode : 21080 \n",
            "\n",
            "section :  Chendering    \n",
            "\n",
            "Wish to continue? (y/n)y\n",
            "\n",
            "\n",
            "Please enter your address: No 11, Chendering, 21080 Kuala Terengganu, Terengganu\n",
            "apt : No 11 \n",
            "\n",
            "city : Kuala Terengganu \n",
            "\n",
            "state : Terengganu \n",
            "\n",
            "postcode : 21080 \n",
            "\n",
            "section :  Chendering    \n",
            "\n",
            "Wish to continue? (y/n)y\n",
            "\n",
            "\n",
            "Please enter your address: No 11, Kuala Terengganu, Chendering\n",
            "apt : No 11 \n",
            "\n",
            "city : Kuala Terengganu \n",
            "\n",
            "section :   Chendering \n",
            "\n",
            "Wish to continue? (y/n)y\n",
            "\n",
            "\n",
            "Please enter your address: No 11 Kuala Terengganu Chendering\n",
            "apt : No 11 \n",
            "\n",
            "city : Kuala Terengganu \n",
            "\n",
            "section :   Chendering \n",
            "\n",
            "Wish to continue? (y/n)n\n"
          ]
        }
      ]
    },
    {
      "cell_type": "code",
      "source": [],
      "metadata": {
        "id": "sGqPA-cSYGt_"
      },
      "execution_count": null,
      "outputs": []
    }
  ]
}